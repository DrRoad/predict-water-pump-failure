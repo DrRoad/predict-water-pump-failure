{
 "cells": [
  {
   "cell_type": "code",
   "execution_count": 6,
   "metadata": {
    "collapsed": true
   },
   "outputs": [],
   "source": [
    "import pandas as pd\n",
    "import matplotlib.pyplot as plt\n",
    "import statsmodels.api as sm\n",
    "import seaborn as sbrn\n",
    "import numpy as np\n",
    "import re\n",
    "import datetime\n",
    "from sklearn.linear_model import LogisticRegression\n",
    "from sklearn.cross_validation import train_test_split\n",
    "\n",
    "%matplotlib inline"
   ]
  },
  {
   "cell_type": "code",
   "execution_count": 3,
   "metadata": {
    "collapsed": false,
    "scrolled": true
   },
   "outputs": [],
   "source": [
    "dat = pd.read_csv('water_training.csv', header=0)"
   ]
  },
  {
   "cell_type": "code",
   "execution_count": 4,
   "metadata": {
    "collapsed": false,
    "scrolled": true
   },
   "outputs": [],
   "source": [
    "labels = pd.read_csv('water_training_labels.csv', header=0)\n",
    "#join labels to dat on \"id\" (left outer)\n",
    "\n",
    "dat=dat.merge(labels, how='left', left_on='id', right_on='id',copy=False)"
   ]
  },
  {
   "cell_type": "code",
   "execution_count": 5,
   "metadata": {
    "collapsed": false
   },
   "outputs": [],
   "source": [
    "dat['functional'] = [1 if x=='functional' else 0 for x in dat['status_group']]"
   ]
  },
  {
   "cell_type": "code",
   "execution_count": 7,
   "metadata": {
    "collapsed": false
   },
   "outputs": [],
   "source": [
    "df_drop = dat.loc[dat['construction_year']!=0]"
   ]
  },
  {
   "cell_type": "code",
   "execution_count": 8,
   "metadata": {
    "collapsed": false
   },
   "outputs": [],
   "source": [
    "X = df_drop[['construction_year']]"
   ]
  },
  {
   "cell_type": "code",
   "execution_count": 9,
   "metadata": {
    "collapsed": true
   },
   "outputs": [],
   "source": [
    "y = df_drop[['functional']]"
   ]
  },
  {
   "cell_type": "code",
   "execution_count": 10,
   "metadata": {
    "collapsed": false
   },
   "outputs": [],
   "source": [
    "logit = sm.Logit(y, X)"
   ]
  },
  {
   "cell_type": "code",
   "execution_count": 11,
   "metadata": {
    "collapsed": false
   },
   "outputs": [
    {
     "name": "stdout",
     "output_type": "stream",
     "text": [
      "Optimization terminated successfully.\n",
      "         Current function value: 0.685481\n",
      "         Iterations 3\n"
     ]
    }
   ],
   "source": [
    "result = logit.fit()"
   ]
  },
  {
   "cell_type": "markdown",
   "metadata": {},
   "source": [
    "# Construction Year (all 0's are dropped)"
   ]
  },
  {
   "cell_type": "code",
   "execution_count": 12,
   "metadata": {
    "collapsed": false
   },
   "outputs": [
    {
     "name": "stdout",
     "output_type": "stream",
     "text": [
      "                           Logit Regression Results                           \n",
      "==============================================================================\n",
      "Dep. Variable:             functional   No. Observations:                38691\n",
      "Model:                          Logit   Df Residuals:                    38690\n",
      "Method:                           MLE   Df Model:                            0\n",
      "Date:                Tue, 10 May 2016   Pseudo R-squ.:               0.0003155\n",
      "Time:                        19:48:43   Log-Likelihood:                -26522.\n",
      "converged:                       True   LL-Null:                       -26530.\n",
      "                                        LLR p-value:                       nan\n",
      "=====================================================================================\n",
      "                        coef    std err          z      P>|z|      [95.0% Conf. Int.]\n",
      "-------------------------------------------------------------------------------------\n",
      "construction_year     0.0001   5.13e-06     24.263      0.000         0.000     0.000\n",
      "=====================================================================================\n"
     ]
    }
   ],
   "source": [
    "print result.summary()"
   ]
  },
  {
   "cell_type": "code",
   "execution_count": 13,
   "metadata": {
    "collapsed": false
   },
   "outputs": [
    {
     "data": {
      "text/plain": [
       "0"
      ]
     },
     "execution_count": 13,
     "metadata": {},
     "output_type": "execute_result"
    }
   ],
   "source": [
    "dat.basin.isnull().sum().sum()"
   ]
  },
  {
   "cell_type": "code",
   "execution_count": 14,
   "metadata": {
    "collapsed": true
   },
   "outputs": [],
   "source": [
    "y = dat[['functional']]"
   ]
  },
  {
   "cell_type": "code",
   "execution_count": 15,
   "metadata": {
    "collapsed": false
   },
   "outputs": [],
   "source": [
    "basin_dummies = pd.get_dummies(dat['basin'])"
   ]
  },
  {
   "cell_type": "code",
   "execution_count": 16,
   "metadata": {
    "collapsed": true
   },
   "outputs": [],
   "source": [
    "X = basin_dummies"
   ]
  },
  {
   "cell_type": "code",
   "execution_count": 17,
   "metadata": {
    "collapsed": false
   },
   "outputs": [],
   "source": [
    "logit = sm.Logit(y, X)"
   ]
  },
  {
   "cell_type": "code",
   "execution_count": 18,
   "metadata": {
    "collapsed": false
   },
   "outputs": [
    {
     "name": "stdout",
     "output_type": "stream",
     "text": [
      "Optimization terminated successfully.\n",
      "         Current function value: 0.676049\n",
      "         Iterations 4\n"
     ]
    }
   ],
   "source": [
    "result = logit.fit()"
   ]
  },
  {
   "cell_type": "markdown",
   "metadata": {},
   "source": [
    "# Basin"
   ]
  },
  {
   "cell_type": "code",
   "execution_count": 19,
   "metadata": {
    "collapsed": false
   },
   "outputs": [
    {
     "name": "stdout",
     "output_type": "stream",
     "text": [
      "                           Logit Regression Results                           \n",
      "==============================================================================\n",
      "Dep. Variable:             functional   No. Observations:                59400\n",
      "Model:                          Logit   Df Residuals:                    59391\n",
      "Method:                           MLE   Df Model:                            8\n",
      "Date:                Tue, 10 May 2016   Pseudo R-squ.:                 0.01941\n",
      "Time:                        19:49:05   Log-Likelihood:                -40157.\n",
      "converged:                       True   LL-Null:                       -40952.\n",
      "                                        LLR p-value:                     0.000\n",
      "===========================================================================================\n",
      "                              coef    std err          z      P>|z|      [95.0% Conf. Int.]\n",
      "-------------------------------------------------------------------------------------------\n",
      "Internal                    0.3052      0.023     13.311      0.000         0.260     0.350\n",
      "Lake Nyasa                  0.6353      0.029     21.554      0.000         0.578     0.693\n",
      "Lake Rukwa                 -0.3743      0.041     -9.111      0.000        -0.455    -0.294\n",
      "Lake Tanganyika            -0.0678      0.025     -2.718      0.007        -0.117    -0.019\n",
      "Lake Victoria              -0.0094      0.020     -0.474      0.635        -0.048     0.029\n",
      "Pangani                     0.4092      0.022     18.947      0.000         0.367     0.452\n",
      "Rufiji                      0.5555      0.023     23.878      0.000         0.510     0.601\n",
      "Ruvuma / Southern Coast    -0.5250      0.031    -17.005      0.000        -0.585    -0.464\n",
      "Wami / Ruvu                 0.0953      0.026      3.682      0.000         0.045     0.146\n",
      "===========================================================================================\n"
     ]
    }
   ],
   "source": [
    "print result.summary()"
   ]
  },
  {
   "cell_type": "code",
   "execution_count": 20,
   "metadata": {
    "collapsed": false
   },
   "outputs": [
    {
     "data": {
      "text/plain": [
       "0"
      ]
     },
     "execution_count": 20,
     "metadata": {},
     "output_type": "execute_result"
    }
   ],
   "source": [
    "dat.quantity.isnull().sum().sum()\n",
    "#no missing values!"
   ]
  },
  {
   "cell_type": "code",
   "execution_count": 21,
   "metadata": {
    "collapsed": true
   },
   "outputs": [],
   "source": [
    "quantity_dummies = pd.get_dummies(dat['quantity'])"
   ]
  },
  {
   "cell_type": "code",
   "execution_count": 22,
   "metadata": {
    "collapsed": true
   },
   "outputs": [],
   "source": [
    "X = quantity_dummies"
   ]
  },
  {
   "cell_type": "code",
   "execution_count": 23,
   "metadata": {
    "collapsed": true
   },
   "outputs": [],
   "source": [
    "logit = sm.Logit(y, X)"
   ]
  },
  {
   "cell_type": "code",
   "execution_count": 24,
   "metadata": {
    "collapsed": false
   },
   "outputs": [
    {
     "name": "stdout",
     "output_type": "stream",
     "text": [
      "Optimization terminated successfully.\n",
      "         Current function value: 0.603778\n",
      "         Iterations 8\n"
     ]
    }
   ],
   "source": [
    "result = logit.fit()"
   ]
  },
  {
   "cell_type": "markdown",
   "metadata": {},
   "source": [
    "# Quantity"
   ]
  },
  {
   "cell_type": "code",
   "execution_count": 25,
   "metadata": {
    "collapsed": false
   },
   "outputs": [
    {
     "name": "stdout",
     "output_type": "stream",
     "text": [
      "                           Logit Regression Results                           \n",
      "==============================================================================\n",
      "Dep. Variable:             functional   No. Observations:                59400\n",
      "Model:                          Logit   Df Residuals:                    59395\n",
      "Method:                           MLE   Df Model:                            4\n",
      "Date:                Tue, 10 May 2016   Pseudo R-squ.:                  0.1242\n",
      "Time:                        19:49:11   Log-Likelihood:                -35864.\n",
      "converged:                       True   LL-Null:                       -40952.\n",
      "                                        LLR p-value:                     0.000\n",
      "================================================================================\n",
      "                   coef    std err          z      P>|z|      [95.0% Conf. Int.]\n",
      "--------------------------------------------------------------------------------\n",
      "dry             -3.6580      0.081    -45.255      0.000        -3.816    -3.500\n",
      "enough           0.6293      0.012     54.592      0.000         0.607     0.652\n",
      "insufficient     0.0930      0.016      5.713      0.000         0.061     0.125\n",
      "seasonal         0.2985      0.032      9.393      0.000         0.236     0.361\n",
      "unknown         -0.9948      0.080    -12.405      0.000        -1.152    -0.838\n",
      "================================================================================\n"
     ]
    }
   ],
   "source": [
    "print result.summary()"
   ]
  },
  {
   "cell_type": "code",
   "execution_count": 26,
   "metadata": {
    "collapsed": true
   },
   "outputs": [],
   "source": [
    "df_drop = dat.loc[dat['gps_height']!=0]"
   ]
  },
  {
   "cell_type": "code",
   "execution_count": 27,
   "metadata": {
    "collapsed": true
   },
   "outputs": [],
   "source": [
    "X = df_drop[['gps_height']]"
   ]
  },
  {
   "cell_type": "code",
   "execution_count": 28,
   "metadata": {
    "collapsed": true
   },
   "outputs": [],
   "source": [
    "y = df_drop[['functional']]"
   ]
  },
  {
   "cell_type": "code",
   "execution_count": 29,
   "metadata": {
    "collapsed": false
   },
   "outputs": [],
   "source": [
    "logit = sm.Logit(y, X)"
   ]
  },
  {
   "cell_type": "code",
   "execution_count": 30,
   "metadata": {
    "collapsed": false
   },
   "outputs": [
    {
     "name": "stdout",
     "output_type": "stream",
     "text": [
      "Optimization terminated successfully.\n",
      "         Current function value: 0.677891\n",
      "         Iterations 3\n"
     ]
    }
   ],
   "source": [
    "result = logit.fit()"
   ]
  },
  {
   "cell_type": "markdown",
   "metadata": {},
   "source": [
    "# GPS Height (all 0's are dropped)"
   ]
  },
  {
   "cell_type": "code",
   "execution_count": 31,
   "metadata": {
    "collapsed": false
   },
   "outputs": [
    {
     "name": "stdout",
     "output_type": "stream",
     "text": [
      "                           Logit Regression Results                           \n",
      "==============================================================================\n",
      "Dep. Variable:             functional   No. Observations:                38962\n",
      "Model:                          Logit   Df Residuals:                    38961\n",
      "Method:                           MLE   Df Model:                            0\n",
      "Date:                Tue, 10 May 2016   Pseudo R-squ.:                 0.01197\n",
      "Time:                        19:49:17   Log-Likelihood:                -26412.\n",
      "converged:                       True   LL-Null:                       -26732.\n",
      "                                        LLR p-value:                       nan\n",
      "==============================================================================\n",
      "                 coef    std err          z      P>|z|      [95.0% Conf. Int.]\n",
      "------------------------------------------------------------------------------\n",
      "gps_height     0.0003   8.76e-06     34.018      0.000         0.000     0.000\n",
      "==============================================================================\n"
     ]
    }
   ],
   "source": [
    "print result.summary()"
   ]
  },
  {
   "cell_type": "code",
   "execution_count": 32,
   "metadata": {
    "collapsed": false
   },
   "outputs": [],
   "source": [
    "df_drop = dat.loc[dat['population']!=0]"
   ]
  },
  {
   "cell_type": "code",
   "execution_count": 33,
   "metadata": {
    "collapsed": true
   },
   "outputs": [],
   "source": [
    "X = df_drop[['population']]"
   ]
  },
  {
   "cell_type": "code",
   "execution_count": 34,
   "metadata": {
    "collapsed": true
   },
   "outputs": [],
   "source": [
    "y = df_drop[['functional']]"
   ]
  },
  {
   "cell_type": "code",
   "execution_count": 35,
   "metadata": {
    "collapsed": false
   },
   "outputs": [],
   "source": [
    "logit = sm.Logit(y, X)"
   ]
  },
  {
   "cell_type": "code",
   "execution_count": 36,
   "metadata": {
    "collapsed": false
   },
   "outputs": [
    {
     "name": "stdout",
     "output_type": "stream",
     "text": [
      "Optimization terminated successfully.\n",
      "         Current function value: 0.691282\n",
      "         Iterations 4\n"
     ]
    }
   ],
   "source": [
    "result = logit.fit()"
   ]
  },
  {
   "cell_type": "markdown",
   "metadata": {},
   "source": [
    "# Population (all 0's are dropped)"
   ]
  },
  {
   "cell_type": "code",
   "execution_count": 37,
   "metadata": {
    "collapsed": false,
    "scrolled": true
   },
   "outputs": [
    {
     "name": "stdout",
     "output_type": "stream",
     "text": [
      "                           Logit Regression Results                           \n",
      "==============================================================================\n",
      "Dep. Variable:             functional   No. Observations:                38019\n",
      "Model:                          Logit   Df Residuals:                    38018\n",
      "Method:                           MLE   Df Model:                            0\n",
      "Date:                Tue, 10 May 2016   Pseudo R-squ.:               -0.005154\n",
      "Time:                        19:49:24   Log-Likelihood:                -26282.\n",
      "converged:                       True   LL-Null:                       -26147.\n",
      "                                        LLR p-value:                       nan\n",
      "==============================================================================\n",
      "                 coef    std err          z      P>|z|      [95.0% Conf. Int.]\n",
      "------------------------------------------------------------------------------\n",
      "population     0.0002   1.87e-05     11.267      0.000         0.000     0.000\n",
      "==============================================================================\n"
     ]
    }
   ],
   "source": [
    "print result.summary()"
   ]
  },
  {
   "cell_type": "code",
   "execution_count": 38,
   "metadata": {
    "collapsed": false
   },
   "outputs": [
    {
     "data": {
      "text/plain": [
       "0"
      ]
     },
     "execution_count": 38,
     "metadata": {},
     "output_type": "execute_result"
    }
   ],
   "source": [
    "dat.district_code.isnull().sum().sum()"
   ]
  },
  {
   "cell_type": "code",
   "execution_count": 39,
   "metadata": {
    "collapsed": false
   },
   "outputs": [],
   "source": [
    "df_drop = dat.loc[dat['district_code']!=0]"
   ]
  },
  {
   "cell_type": "code",
   "execution_count": 40,
   "metadata": {
    "collapsed": true
   },
   "outputs": [],
   "source": [
    "district_dummies = pd.get_dummies(df_drop['district_code'])"
   ]
  },
  {
   "cell_type": "code",
   "execution_count": 41,
   "metadata": {
    "collapsed": false
   },
   "outputs": [],
   "source": [
    "X = district_dummies"
   ]
  },
  {
   "cell_type": "code",
   "execution_count": 42,
   "metadata": {
    "collapsed": true
   },
   "outputs": [],
   "source": [
    "y = df_drop[['functional']]"
   ]
  },
  {
   "cell_type": "code",
   "execution_count": 43,
   "metadata": {
    "collapsed": false
   },
   "outputs": [],
   "source": [
    "logit = sm.Logit(y, X)"
   ]
  },
  {
   "cell_type": "code",
   "execution_count": 44,
   "metadata": {
    "collapsed": false
   },
   "outputs": [
    {
     "name": "stdout",
     "output_type": "stream",
     "text": [
      "Optimization terminated successfully.\n",
      "         Current function value: 0.679303\n",
      "         Iterations 5\n"
     ]
    }
   ],
   "source": [
    "result = logit.fit()"
   ]
  },
  {
   "cell_type": "markdown",
   "metadata": {},
   "source": [
    "# District (all 0's are dropped)"
   ]
  },
  {
   "cell_type": "code",
   "execution_count": 45,
   "metadata": {
    "collapsed": false
   },
   "outputs": [
    {
     "name": "stdout",
     "output_type": "stream",
     "text": [
      "                           Logit Regression Results                           \n",
      "==============================================================================\n",
      "Dep. Variable:             functional   No. Observations:                59377\n",
      "Model:                          Logit   Df Residuals:                    59358\n",
      "Method:                           MLE   Df Model:                           18\n",
      "Date:                Tue, 10 May 2016   Pseudo R-squ.:                 0.01465\n",
      "Time:                        19:49:33   Log-Likelihood:                -40335.\n",
      "converged:                       True   LL-Null:                       -40935.\n",
      "                                        LLR p-value:                1.295e-243\n",
      "==============================================================================\n",
      "                 coef    std err          z      P>|z|      [95.0% Conf. Int.]\n",
      "------------------------------------------------------------------------------\n",
      "1              0.1499      0.018      8.257      0.000         0.114     0.186\n",
      "2              0.2216      0.019     11.641      0.000         0.184     0.259\n",
      "3             -0.0180      0.020     -0.900      0.368        -0.057     0.021\n",
      "4              0.4969      0.022     22.861      0.000         0.454     0.540\n",
      "5              0.2782      0.031      9.092      0.000         0.218     0.338\n",
      "6              0.0177      0.031      0.564      0.573        -0.044     0.079\n",
      "7              0.4157      0.035     11.763      0.000         0.346     0.485\n",
      "8              0.2603      0.062      4.168      0.000         0.138     0.383\n",
      "13            -0.8267      0.110     -7.522      0.000        -1.042    -0.611\n",
      "23             0.2539      0.118      2.156      0.031         0.023     0.485\n",
      "30             0.8117      0.069     11.815      0.000         0.677     0.946\n",
      "33            -1.2542      0.081    -15.409      0.000        -1.414    -1.095\n",
      "43            -0.3155      0.090     -3.501      0.000        -0.492    -0.139\n",
      "53            -0.6831      0.078     -8.804      0.000        -0.835    -0.531\n",
      "60             1.4469      0.321      4.510      0.000         0.818     2.076\n",
      "62             0.0918      0.192      0.479      0.632        -0.284     0.468\n",
      "63            -0.7632      0.154     -4.963      0.000        -1.065    -0.462\n",
      "67             1.6094      1.095      1.469      0.142        -0.538     3.756\n",
      "80            -1.0986      0.667     -1.648      0.099        -2.405     0.208\n",
      "==============================================================================\n"
     ]
    }
   ],
   "source": [
    "print result.summary()"
   ]
  },
  {
   "cell_type": "code",
   "execution_count": 46,
   "metadata": {
    "collapsed": false
   },
   "outputs": [
    {
     "data": {
      "text/plain": [
       "3877"
      ]
     },
     "execution_count": 46,
     "metadata": {},
     "output_type": "execute_result"
    }
   ],
   "source": [
    "dat.scheme_management.isnull().sum().sum()"
   ]
  },
  {
   "cell_type": "code",
   "execution_count": 47,
   "metadata": {
    "collapsed": false
   },
   "outputs": [
    {
     "name": "stderr",
     "output_type": "stream",
     "text": [
      "/Users/anthonykim/anaconda2/lib/python2.7/site-packages/ipykernel/__main__.py:1: UserWarning: Boolean Series key will be reindexed to match DataFrame index.\n",
      "  if __name__ == '__main__':\n"
     ]
    }
   ],
   "source": [
    "df_drop = df_drop[pd.notnull(dat['scheme_management'])]"
   ]
  },
  {
   "cell_type": "code",
   "execution_count": 48,
   "metadata": {
    "collapsed": false
   },
   "outputs": [
    {
     "data": {
      "text/plain": [
       "0"
      ]
     },
     "execution_count": 48,
     "metadata": {},
     "output_type": "execute_result"
    }
   ],
   "source": [
    "df_drop.scheme_management.isnull().sum().sum()"
   ]
  },
  {
   "cell_type": "code",
   "execution_count": 49,
   "metadata": {
    "collapsed": true
   },
   "outputs": [],
   "source": [
    "scheme_dummies = pd.get_dummies(df_drop['scheme_management'])"
   ]
  },
  {
   "cell_type": "code",
   "execution_count": 50,
   "metadata": {
    "collapsed": true
   },
   "outputs": [],
   "source": [
    "X = scheme_dummies"
   ]
  },
  {
   "cell_type": "code",
   "execution_count": 51,
   "metadata": {
    "collapsed": true
   },
   "outputs": [],
   "source": [
    "y = df_drop[['functional']]"
   ]
  },
  {
   "cell_type": "code",
   "execution_count": 52,
   "metadata": {
    "collapsed": true
   },
   "outputs": [],
   "source": [
    "logit = sm.Logit(y, X)"
   ]
  },
  {
   "cell_type": "code",
   "execution_count": 53,
   "metadata": {
    "collapsed": false
   },
   "outputs": [
    {
     "name": "stdout",
     "output_type": "stream",
     "text": [
      "Warning: Maximum number of iterations has been exceeded.\n",
      "         Current function value: 0.679081\n",
      "         Iterations: 35\n"
     ]
    },
    {
     "name": "stderr",
     "output_type": "stream",
     "text": [
      "/Users/anthonykim/anaconda2/lib/python2.7/site-packages/statsmodels/base/model.py:466: ConvergenceWarning: Maximum Likelihood optimization failed to converge. Check mle_retvals\n",
      "  \"Check mle_retvals\", ConvergenceWarning)\n"
     ]
    }
   ],
   "source": [
    "result = logit.fit()"
   ]
  },
  {
   "cell_type": "markdown",
   "metadata": {},
   "source": [
    "# Scheme (missing data dropped)"
   ]
  },
  {
   "cell_type": "code",
   "execution_count": 54,
   "metadata": {
    "collapsed": false
   },
   "outputs": [
    {
     "name": "stdout",
     "output_type": "stream",
     "text": [
      "                           Logit Regression Results                           \n",
      "==============================================================================\n",
      "Dep. Variable:             functional   No. Observations:                55500\n",
      "Model:                          Logit   Df Residuals:                    55488\n",
      "Method:                           MLE   Df Model:                           11\n",
      "Date:                Tue, 10 May 2016   Pseudo R-squ.:                 0.01388\n",
      "Time:                        19:49:47   Log-Likelihood:                -37689.\n",
      "converged:                      False   LL-Null:                       -38220.\n",
      "                                        LLR p-value:                1.246e-220\n",
      "====================================================================================\n",
      "                       coef    std err          z      P>|z|      [95.0% Conf. Int.]\n",
      "------------------------------------------------------------------------------------\n",
      "Company              0.0132      0.061      0.215      0.830        -0.107     0.134\n",
      "None                26.2830    5.1e+05   5.16e-05      1.000     -9.99e+05  9.99e+05\n",
      "Other                0.3968      0.074      5.384      0.000         0.252     0.541\n",
      "Parastatal           0.3023      0.049      6.125      0.000         0.206     0.399\n",
      "Private operator     0.7805      0.066     11.813      0.000         0.651     0.910\n",
      "SWC                 -1.3481      0.251     -5.371      0.000        -1.840    -0.856\n",
      "Trust                0.5705      0.245      2.325      0.020         0.090     1.051\n",
      "VWC                  0.0621      0.010      5.955      0.000         0.042     0.083\n",
      "WUA                  0.8094      0.040     20.065      0.000         0.730     0.888\n",
      "WUG                  0.3122      0.028     11.126      0.000         0.257     0.367\n",
      "Water Board          1.0831      0.044     24.681      0.000         0.997     1.169\n",
      "Water authority      0.0527      0.036      1.478      0.139        -0.017     0.122\n",
      "====================================================================================\n"
     ]
    }
   ],
   "source": [
    "print result.summary()"
   ]
  },
  {
   "cell_type": "code",
   "execution_count": 55,
   "metadata": {
    "collapsed": false
   },
   "outputs": [
    {
     "data": {
      "text/plain": [
       "0"
      ]
     },
     "execution_count": 55,
     "metadata": {},
     "output_type": "execute_result"
    }
   ],
   "source": [
    "#dat.scheme_management.isnull().sum().sum()\n",
    "dat.extraction_type_class.isnull().sum().sum()"
   ]
  },
  {
   "cell_type": "code",
   "execution_count": 56,
   "metadata": {
    "collapsed": true
   },
   "outputs": [],
   "source": [
    "extraction_dummies = pd.get_dummies(dat['extraction_type_class'])"
   ]
  },
  {
   "cell_type": "code",
   "execution_count": 57,
   "metadata": {
    "collapsed": true
   },
   "outputs": [],
   "source": [
    "X = extraction_dummies"
   ]
  },
  {
   "cell_type": "code",
   "execution_count": 58,
   "metadata": {
    "collapsed": true
   },
   "outputs": [],
   "source": [
    "y = dat[['functional']]"
   ]
  },
  {
   "cell_type": "code",
   "execution_count": 59,
   "metadata": {
    "collapsed": true
   },
   "outputs": [],
   "source": [
    "logit = sm.Logit(y, X)"
   ]
  },
  {
   "cell_type": "code",
   "execution_count": 60,
   "metadata": {
    "collapsed": false
   },
   "outputs": [
    {
     "name": "stdout",
     "output_type": "stream",
     "text": [
      "Optimization terminated successfully.\n",
      "         Current function value: 0.645088\n",
      "         Iterations 6\n"
     ]
    }
   ],
   "source": [
    "result = logit.fit()"
   ]
  },
  {
   "cell_type": "markdown",
   "metadata": {},
   "source": [
    "# Extraction"
   ]
  },
  {
   "cell_type": "code",
   "execution_count": 61,
   "metadata": {
    "collapsed": false
   },
   "outputs": [
    {
     "name": "stdout",
     "output_type": "stream",
     "text": [
      "                           Logit Regression Results                           \n",
      "==============================================================================\n",
      "Dep. Variable:             functional   No. Observations:                59400\n",
      "Model:                          Logit   Df Residuals:                    59393\n",
      "Method:                           MLE   Df Model:                            6\n",
      "Date:                Tue, 10 May 2016   Pseudo R-squ.:                 0.06432\n",
      "Time:                        19:49:57   Log-Likelihood:                -38318.\n",
      "converged:                       True   LL-Null:                       -40952.\n",
      "                                        LLR p-value:                     0.000\n",
      "================================================================================\n",
      "                   coef    std err          z      P>|z|      [95.0% Conf. Int.]\n",
      "--------------------------------------------------------------------------------\n",
      "gravity          0.4024      0.012     32.267      0.000         0.378     0.427\n",
      "handpump         0.5342      0.016     33.079      0.000         0.503     0.566\n",
      "motorpump       -0.4896      0.038    -12.989      0.000        -0.564    -0.416\n",
      "other           -1.6580      0.034    -48.744      0.000        -1.725    -1.591\n",
      "rope pump        0.6176      0.099      6.257      0.000         0.424     0.811\n",
      "submersible      0.1554      0.026      6.088      0.000         0.105     0.205\n",
      "wind-powered    -0.2927      0.187     -1.566      0.117        -0.659     0.074\n",
      "================================================================================\n"
     ]
    }
   ],
   "source": [
    "print result.summary()"
   ]
  },
  {
   "cell_type": "code",
   "execution_count": 62,
   "metadata": {
    "collapsed": false
   },
   "outputs": [
    {
     "data": {
      "text/plain": [
       "0"
      ]
     },
     "execution_count": 62,
     "metadata": {},
     "output_type": "execute_result"
    }
   ],
   "source": [
    "dat.water_quality.isnull().sum().sum()"
   ]
  },
  {
   "cell_type": "code",
   "execution_count": 63,
   "metadata": {
    "collapsed": true
   },
   "outputs": [],
   "source": [
    "water_quality_dummies = pd.get_dummies(dat['water_quality'])"
   ]
  },
  {
   "cell_type": "code",
   "execution_count": 64,
   "metadata": {
    "collapsed": true
   },
   "outputs": [],
   "source": [
    "X = water_quality_dummies"
   ]
  },
  {
   "cell_type": "code",
   "execution_count": 65,
   "metadata": {
    "collapsed": true
   },
   "outputs": [],
   "source": [
    "logit = sm.Logit(y, X)"
   ]
  },
  {
   "cell_type": "code",
   "execution_count": 66,
   "metadata": {
    "collapsed": false
   },
   "outputs": [
    {
     "name": "stdout",
     "output_type": "stream",
     "text": [
      "Optimization terminated successfully.\n",
      "         Current function value: 0.675797\n",
      "         Iterations 6\n"
     ]
    }
   ],
   "source": [
    "result = logit.fit()"
   ]
  },
  {
   "cell_type": "markdown",
   "metadata": {},
   "source": [
    "# Water Quality"
   ]
  },
  {
   "cell_type": "code",
   "execution_count": 67,
   "metadata": {
    "collapsed": false
   },
   "outputs": [
    {
     "name": "stdout",
     "output_type": "stream",
     "text": [
      "                           Logit Regression Results                           \n",
      "==============================================================================\n",
      "Dep. Variable:             functional   No. Observations:                59400\n",
      "Model:                          Logit   Df Residuals:                    59392\n",
      "Method:                           MLE   Df Model:                            7\n",
      "Date:                Tue, 10 May 2016   Pseudo R-squ.:                 0.01978\n",
      "Time:                        19:50:02   Log-Likelihood:                -40142.\n",
      "converged:                       True   LL-Null:                       -40952.\n",
      "                                        LLR p-value:                     0.000\n",
      "======================================================================================\n",
      "                         coef    std err          z      P>|z|      [95.0% Conf. Int.]\n",
      "--------------------------------------------------------------------------------------\n",
      "coloured               0.0082      0.090      0.090      0.928        -0.169     0.185\n",
      "fluoride               1.1255      0.164      6.845      0.000         0.803     1.448\n",
      "fluoride abandoned    -0.6061      0.508     -1.194      0.232        -1.601     0.389\n",
      "milky                  0.1796      0.071      2.536      0.011         0.041     0.318\n",
      "salty                 -0.1718      0.029     -5.962      0.000        -0.228    -0.115\n",
      "salty abandoned        0.0531      0.109      0.489      0.625        -0.160     0.266\n",
      "soft                   0.2653      0.009     29.643      0.000         0.248     0.283\n",
      "unknown               -1.8093      0.066    -27.250      0.000        -1.939    -1.679\n",
      "======================================================================================\n"
     ]
    }
   ],
   "source": [
    "print result.summary()"
   ]
  },
  {
   "cell_type": "code",
   "execution_count": 68,
   "metadata": {
    "collapsed": false
   },
   "outputs": [
    {
     "data": {
      "text/plain": [
       "0"
      ]
     },
     "execution_count": 68,
     "metadata": {},
     "output_type": "execute_result"
    }
   ],
   "source": [
    "dat.quantity.isnull().sum().sum()"
   ]
  },
  {
   "cell_type": "code",
   "execution_count": 69,
   "metadata": {
    "collapsed": true
   },
   "outputs": [],
   "source": [
    "quantity_dummies = pd.get_dummies(dat['quantity'])"
   ]
  },
  {
   "cell_type": "code",
   "execution_count": 70,
   "metadata": {
    "collapsed": true
   },
   "outputs": [],
   "source": [
    "X = quantity_dummies"
   ]
  },
  {
   "cell_type": "code",
   "execution_count": 71,
   "metadata": {
    "collapsed": true
   },
   "outputs": [],
   "source": [
    "logit = sm.Logit(y, X)"
   ]
  },
  {
   "cell_type": "code",
   "execution_count": 72,
   "metadata": {
    "collapsed": false
   },
   "outputs": [
    {
     "name": "stdout",
     "output_type": "stream",
     "text": [
      "Optimization terminated successfully.\n",
      "         Current function value: 0.603778\n",
      "         Iterations 8\n"
     ]
    }
   ],
   "source": [
    "result = logit.fit()"
   ]
  },
  {
   "cell_type": "markdown",
   "metadata": {},
   "source": [
    "# Quantity"
   ]
  },
  {
   "cell_type": "code",
   "execution_count": 73,
   "metadata": {
    "collapsed": false
   },
   "outputs": [
    {
     "name": "stdout",
     "output_type": "stream",
     "text": [
      "                           Logit Regression Results                           \n",
      "==============================================================================\n",
      "Dep. Variable:             functional   No. Observations:                59400\n",
      "Model:                          Logit   Df Residuals:                    59395\n",
      "Method:                           MLE   Df Model:                            4\n",
      "Date:                Tue, 10 May 2016   Pseudo R-squ.:                  0.1242\n",
      "Time:                        19:50:06   Log-Likelihood:                -35864.\n",
      "converged:                       True   LL-Null:                       -40952.\n",
      "                                        LLR p-value:                     0.000\n",
      "================================================================================\n",
      "                   coef    std err          z      P>|z|      [95.0% Conf. Int.]\n",
      "--------------------------------------------------------------------------------\n",
      "dry             -3.6580      0.081    -45.255      0.000        -3.816    -3.500\n",
      "enough           0.6293      0.012     54.592      0.000         0.607     0.652\n",
      "insufficient     0.0930      0.016      5.713      0.000         0.061     0.125\n",
      "seasonal         0.2985      0.032      9.393      0.000         0.236     0.361\n",
      "unknown         -0.9948      0.080    -12.405      0.000        -1.152    -0.838\n",
      "================================================================================\n"
     ]
    }
   ],
   "source": [
    "print result.summary()"
   ]
  },
  {
   "cell_type": "code",
   "execution_count": 74,
   "metadata": {
    "collapsed": false
   },
   "outputs": [
    {
     "data": {
      "text/plain": [
       "0"
      ]
     },
     "execution_count": 74,
     "metadata": {},
     "output_type": "execute_result"
    }
   ],
   "source": [
    "dat.source.isnull().sum().sum()"
   ]
  },
  {
   "cell_type": "code",
   "execution_count": 75,
   "metadata": {
    "collapsed": true
   },
   "outputs": [],
   "source": [
    "source_dummies = pd.get_dummies(dat['source'])"
   ]
  },
  {
   "cell_type": "code",
   "execution_count": 76,
   "metadata": {
    "collapsed": true
   },
   "outputs": [],
   "source": [
    "X = source_dummies"
   ]
  },
  {
   "cell_type": "code",
   "execution_count": 77,
   "metadata": {
    "collapsed": true
   },
   "outputs": [],
   "source": [
    "logit = sm.Logit(y, X)"
   ]
  },
  {
   "cell_type": "code",
   "execution_count": 78,
   "metadata": {
    "collapsed": false
   },
   "outputs": [
    {
     "name": "stdout",
     "output_type": "stream",
     "text": [
      "Optimization terminated successfully.\n",
      "         Current function value: 0.679294\n",
      "         Iterations 5\n"
     ]
    }
   ],
   "source": [
    "result = logit.fit()"
   ]
  },
  {
   "cell_type": "markdown",
   "metadata": {},
   "source": [
    "# Source"
   ]
  },
  {
   "cell_type": "code",
   "execution_count": 79,
   "metadata": {
    "collapsed": false
   },
   "outputs": [
    {
     "name": "stdout",
     "output_type": "stream",
     "text": [
      "                           Logit Regression Results                           \n",
      "==============================================================================\n",
      "Dep. Variable:             functional   No. Observations:                59400\n",
      "Model:                          Logit   Df Residuals:                    59390\n",
      "Method:                           MLE   Df Model:                            9\n",
      "Date:                Tue, 10 May 2016   Pseudo R-squ.:                 0.01470\n",
      "Time:                        19:50:10   Log-Likelihood:                -40350.\n",
      "converged:                       True   LL-Null:                       -40952.\n",
      "                                        LLR p-value:                1.449e-253\n",
      "========================================================================================\n",
      "                           coef    std err          z      P>|z|      [95.0% Conf. Int.]\n",
      "----------------------------------------------------------------------------------------\n",
      "dam                     -0.4655      0.080     -5.804      0.000        -0.623    -0.308\n",
      "hand dtw                 0.2763      0.068      4.046      0.000         0.142     0.410\n",
      "lake                    -1.3143      0.088    -14.852      0.000        -1.488    -1.141\n",
      "machine dbh             -0.0417      0.019     -2.195      0.028        -0.079    -0.004\n",
      "other                    0.3819      0.140      2.731      0.006         0.108     0.656\n",
      "rainwater harvesting     0.4218      0.043      9.884      0.000         0.338     0.505\n",
      "river                    0.2760      0.021     13.401      0.000         0.236     0.316\n",
      "shallow well            -0.0209      0.015     -1.357      0.175        -0.051     0.009\n",
      "spring                   0.4993      0.016     31.580      0.000         0.468     0.530\n",
      "unknown                 -0.0606      0.246     -0.246      0.806        -0.543     0.422\n",
      "========================================================================================\n"
     ]
    }
   ],
   "source": [
    "print result.summary()"
   ]
  },
  {
   "cell_type": "code",
   "execution_count": 80,
   "metadata": {
    "collapsed": false
   },
   "outputs": [
    {
     "data": {
      "text/plain": [
       "0"
      ]
     },
     "execution_count": 80,
     "metadata": {},
     "output_type": "execute_result"
    }
   ],
   "source": [
    "dat.waterpoint_type.isnull().sum().sum()"
   ]
  },
  {
   "cell_type": "code",
   "execution_count": 81,
   "metadata": {
    "collapsed": true
   },
   "outputs": [],
   "source": [
    "waterpoint_dummies = pd.get_dummies(dat['waterpoint_type'])"
   ]
  },
  {
   "cell_type": "code",
   "execution_count": 82,
   "metadata": {
    "collapsed": true
   },
   "outputs": [],
   "source": [
    "X = waterpoint_dummies"
   ]
  },
  {
   "cell_type": "code",
   "execution_count": 83,
   "metadata": {
    "collapsed": true
   },
   "outputs": [],
   "source": [
    "logit = sm.Logit(y, X)"
   ]
  },
  {
   "cell_type": "code",
   "execution_count": 84,
   "metadata": {
    "collapsed": false
   },
   "outputs": [
    {
     "name": "stdout",
     "output_type": "stream",
     "text": [
      "Optimization terminated successfully.\n",
      "         Current function value: 0.632706\n",
      "         Iterations 6\n"
     ]
    }
   ],
   "source": [
    "result = logit.fit()"
   ]
  },
  {
   "cell_type": "markdown",
   "metadata": {},
   "source": [
    "# Waterpoint"
   ]
  },
  {
   "cell_type": "code",
   "execution_count": 85,
   "metadata": {
    "collapsed": false
   },
   "outputs": [
    {
     "name": "stdout",
     "output_type": "stream",
     "text": [
      "                           Logit Regression Results                           \n",
      "==============================================================================\n",
      "Dep. Variable:             functional   No. Observations:                59400\n",
      "Model:                          Logit   Df Residuals:                    59393\n",
      "Method:                           MLE   Df Model:                            6\n",
      "Date:                Tue, 10 May 2016   Pseudo R-squ.:                 0.08228\n",
      "Time:                        19:50:47   Log-Likelihood:                -37583.\n",
      "converged:                       True   LL-Null:                       -40952.\n",
      "                                        LLR p-value:                     0.000\n",
      "===============================================================================================\n",
      "                                  coef    std err          z      P>|z|      [95.0% Conf. Int.]\n",
      "-----------------------------------------------------------------------------------------------\n",
      "cattle trough                   0.9651      0.208      4.646      0.000         0.558     1.372\n",
      "communal standpipe              0.4959      0.012     40.617      0.000         0.472     0.520\n",
      "communal standpipe multiple    -0.5485      0.027    -20.644      0.000        -0.601    -0.496\n",
      "dam                             1.7918      1.080      1.659      0.097        -0.325     3.909\n",
      "hand pump                       0.4804      0.016     30.872      0.000         0.450     0.511\n",
      "improved spring                 0.9351      0.079     11.780      0.000         0.780     1.091\n",
      "other                          -1.8863      0.037    -50.946      0.000        -1.959    -1.814\n",
      "===============================================================================================\n"
     ]
    }
   ],
   "source": [
    "print result.summary()"
   ]
  },
  {
   "cell_type": "code",
   "execution_count": null,
   "metadata": {
    "collapsed": true
   },
   "outputs": [],
   "source": []
  }
 ],
 "metadata": {
  "kernelspec": {
   "display_name": "Python 2",
   "language": "python",
   "name": "python2"
  },
  "language_info": {
   "codemirror_mode": {
    "name": "ipython",
    "version": 2
   },
   "file_extension": ".py",
   "mimetype": "text/x-python",
   "name": "python",
   "nbconvert_exporter": "python",
   "pygments_lexer": "ipython2",
   "version": "2.7.11"
  }
 },
 "nbformat": 4,
 "nbformat_minor": 0
}
