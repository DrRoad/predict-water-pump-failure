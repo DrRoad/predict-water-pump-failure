{
 "cells": [
  {
   "cell_type": "markdown",
   "metadata": {
    "collapsed": true
   },
   "source": [
    "# Load data"
   ]
  },
  {
   "cell_type": "code",
   "execution_count": 1,
   "metadata": {
    "collapsed": false
   },
   "outputs": [],
   "source": [
    "#imports\n",
    "import pandas as pd\n",
    "from sklearn.neighbors import KNeighborsClassifier\n",
    "from sklearn.metrics import accuracy_score\n",
    "import sklearn.metrics as metrics\n",
    "import matplotlib.pyplot as plt\n",
    "from sklearn.linear_model import LogisticRegression\n",
    "import sklearn.linear_model as linear_models\n",
    "import sklearn.svm as svm\n",
    "import sklearn.ensemble as ensemble\n",
    "from sklearn.cross_validation import train_test_split\n",
    "from IPython.display import display\n",
    "from sklearn.naive_bayes import GaussianNB\n",
    "from sklearn.svm import SVC\n",
    "from sklearn.tree import DecisionTreeClassifier\n",
    "from sklearn.ensemble import RandomForestClassifier\n",
    "\n",
    "from sklearn.grid_search import GridSearchCV\n",
    "import numpy as np\n"
   ]
  },
  {
   "cell_type": "code",
   "execution_count": 2,
   "metadata": {
    "collapsed": false
   },
   "outputs": [],
   "source": [
    "# Notebook Settings\n",
    "pd.set_option('display.max_columns', 50)\n",
    "pd.set_option('precision', 4)\n",
    "%matplotlib inline\n",
    "from __future__ import print_function\n",
    "from __future__ import division"
   ]
  },
  {
   "cell_type": "code",
   "execution_count": 3,
   "metadata": {
    "collapsed": false
   },
   "outputs": [],
   "source": [
    "training_labels_df = pd.read_csv('../../data/water_pump/training_labels.csv', header=0)\n",
    "training_values_df = pd.read_csv('../../data/water_pump/training.csv', header=0)\n",
    "\n",
    "#training_labels_df = pd.read_csv(training_labels_file)\n",
    "#training_values_df = pd.read_csv(training_values_file)\n",
    "\n",
    "#training_values_df['status_group'] = training_labels_df['status_group']"
   ]
  },
  {
   "cell_type": "markdown",
   "metadata": {
    "collapsed": true
   },
   "source": [
    "# Run classification algorithms"
   ]
  },
  {
   "cell_type": "code",
   "execution_count": 8,
   "metadata": {
    "collapsed": false,
    "scrolled": false
   },
   "outputs": [
    {
     "data": {
      "text/html": [
       "<div>\n",
       "<table border=\"1\" class=\"dataframe\">\n",
       "  <thead>\n",
       "    <tr style=\"text-align: right;\">\n",
       "      <th></th>\n",
       "      <th>construction_year</th>\n",
       "      <th>population</th>\n",
       "      <th>gps_height</th>\n",
       "      <th>longitude</th>\n",
       "      <th>latitude</th>\n",
       "      <th>dry</th>\n",
       "      <th>enough</th>\n",
       "      <th>insufficient</th>\n",
       "      <th>seasonal</th>\n",
       "      <th>unknown</th>\n",
       "      <th>0</th>\n",
       "      <th>1</th>\n",
       "      <th>2</th>\n",
       "      <th>3</th>\n",
       "      <th>4</th>\n",
       "      <th>5</th>\n",
       "      <th>6</th>\n",
       "      <th>7</th>\n",
       "      <th>8</th>\n",
       "      <th>13</th>\n",
       "      <th>23</th>\n",
       "      <th>30</th>\n",
       "      <th>33</th>\n",
       "      <th>43</th>\n",
       "      <th>53</th>\n",
       "      <th>...</th>\n",
       "      <th>WUG</th>\n",
       "      <th>Water Board</th>\n",
       "      <th>Water authority</th>\n",
       "      <th>afridev</th>\n",
       "      <th>gravity</th>\n",
       "      <th>india mark ii</th>\n",
       "      <th>india mark iii</th>\n",
       "      <th>mono</th>\n",
       "      <th>nira/tanira</th>\n",
       "      <th>other</th>\n",
       "      <th>other handpump</th>\n",
       "      <th>other motorpump</th>\n",
       "      <th>rope pump</th>\n",
       "      <th>submersible</th>\n",
       "      <th>swn 80</th>\n",
       "      <th>wind-powered</th>\n",
       "      <th>Internal</th>\n",
       "      <th>Lake Nyasa</th>\n",
       "      <th>Lake Rukwa</th>\n",
       "      <th>Lake Tanganyika</th>\n",
       "      <th>Lake Victoria</th>\n",
       "      <th>Pangani</th>\n",
       "      <th>Rufiji</th>\n",
       "      <th>Ruvuma / Southern Coast</th>\n",
       "      <th>Wami / Ruvu</th>\n",
       "    </tr>\n",
       "  </thead>\n",
       "  <tbody>\n",
       "    <tr>\n",
       "      <th>51327</th>\n",
       "      <td>2010</td>\n",
       "      <td>60</td>\n",
       "      <td>335</td>\n",
       "      <td>37.6097</td>\n",
       "      <td>-6.1386</td>\n",
       "      <td>0.0</td>\n",
       "      <td>0.0</td>\n",
       "      <td>1.0</td>\n",
       "      <td>0.0</td>\n",
       "      <td>0.0</td>\n",
       "      <td>0.0</td>\n",
       "      <td>0.0</td>\n",
       "      <td>0.0</td>\n",
       "      <td>0.0</td>\n",
       "      <td>0.0</td>\n",
       "      <td>0.0</td>\n",
       "      <td>1.0</td>\n",
       "      <td>0.0</td>\n",
       "      <td>0.0</td>\n",
       "      <td>0.0</td>\n",
       "      <td>0.0</td>\n",
       "      <td>0.0</td>\n",
       "      <td>0.0</td>\n",
       "      <td>0.0</td>\n",
       "      <td>0.0</td>\n",
       "      <td>...</td>\n",
       "      <td>0.0</td>\n",
       "      <td>0.0</td>\n",
       "      <td>0.0</td>\n",
       "      <td>0.0</td>\n",
       "      <td>0.0</td>\n",
       "      <td>0.0</td>\n",
       "      <td>0.0</td>\n",
       "      <td>0.0</td>\n",
       "      <td>1.0</td>\n",
       "      <td>0.0</td>\n",
       "      <td>0.0</td>\n",
       "      <td>0.0</td>\n",
       "      <td>0.0</td>\n",
       "      <td>0.0</td>\n",
       "      <td>0.0</td>\n",
       "      <td>0.0</td>\n",
       "      <td>0.0</td>\n",
       "      <td>0.0</td>\n",
       "      <td>0.0</td>\n",
       "      <td>0.0</td>\n",
       "      <td>0.0</td>\n",
       "      <td>0.0</td>\n",
       "      <td>0.0</td>\n",
       "      <td>0.0</td>\n",
       "      <td>1.0</td>\n",
       "    </tr>\n",
       "    <tr>\n",
       "      <th>26225</th>\n",
       "      <td>0</td>\n",
       "      <td>0</td>\n",
       "      <td>0</td>\n",
       "      <td>32.2030</td>\n",
       "      <td>-4.6788</td>\n",
       "      <td>0.0</td>\n",
       "      <td>1.0</td>\n",
       "      <td>0.0</td>\n",
       "      <td>0.0</td>\n",
       "      <td>0.0</td>\n",
       "      <td>0.0</td>\n",
       "      <td>0.0</td>\n",
       "      <td>0.0</td>\n",
       "      <td>0.0</td>\n",
       "      <td>1.0</td>\n",
       "      <td>0.0</td>\n",
       "      <td>0.0</td>\n",
       "      <td>0.0</td>\n",
       "      <td>0.0</td>\n",
       "      <td>0.0</td>\n",
       "      <td>0.0</td>\n",
       "      <td>0.0</td>\n",
       "      <td>0.0</td>\n",
       "      <td>0.0</td>\n",
       "      <td>0.0</td>\n",
       "      <td>...</td>\n",
       "      <td>0.0</td>\n",
       "      <td>0.0</td>\n",
       "      <td>0.0</td>\n",
       "      <td>0.0</td>\n",
       "      <td>0.0</td>\n",
       "      <td>0.0</td>\n",
       "      <td>0.0</td>\n",
       "      <td>0.0</td>\n",
       "      <td>0.0</td>\n",
       "      <td>1.0</td>\n",
       "      <td>0.0</td>\n",
       "      <td>0.0</td>\n",
       "      <td>0.0</td>\n",
       "      <td>0.0</td>\n",
       "      <td>0.0</td>\n",
       "      <td>0.0</td>\n",
       "      <td>0.0</td>\n",
       "      <td>0.0</td>\n",
       "      <td>0.0</td>\n",
       "      <td>1.0</td>\n",
       "      <td>0.0</td>\n",
       "      <td>0.0</td>\n",
       "      <td>0.0</td>\n",
       "      <td>0.0</td>\n",
       "      <td>0.0</td>\n",
       "    </tr>\n",
       "    <tr>\n",
       "      <th>18897</th>\n",
       "      <td>0</td>\n",
       "      <td>0</td>\n",
       "      <td>0</td>\n",
       "      <td>31.7413</td>\n",
       "      <td>-1.6136</td>\n",
       "      <td>0.0</td>\n",
       "      <td>1.0</td>\n",
       "      <td>0.0</td>\n",
       "      <td>0.0</td>\n",
       "      <td>0.0</td>\n",
       "      <td>0.0</td>\n",
       "      <td>0.0</td>\n",
       "      <td>0.0</td>\n",
       "      <td>1.0</td>\n",
       "      <td>0.0</td>\n",
       "      <td>0.0</td>\n",
       "      <td>0.0</td>\n",
       "      <td>0.0</td>\n",
       "      <td>0.0</td>\n",
       "      <td>0.0</td>\n",
       "      <td>0.0</td>\n",
       "      <td>0.0</td>\n",
       "      <td>0.0</td>\n",
       "      <td>0.0</td>\n",
       "      <td>0.0</td>\n",
       "      <td>...</td>\n",
       "      <td>0.0</td>\n",
       "      <td>0.0</td>\n",
       "      <td>0.0</td>\n",
       "      <td>0.0</td>\n",
       "      <td>1.0</td>\n",
       "      <td>0.0</td>\n",
       "      <td>0.0</td>\n",
       "      <td>0.0</td>\n",
       "      <td>0.0</td>\n",
       "      <td>0.0</td>\n",
       "      <td>0.0</td>\n",
       "      <td>0.0</td>\n",
       "      <td>0.0</td>\n",
       "      <td>0.0</td>\n",
       "      <td>0.0</td>\n",
       "      <td>0.0</td>\n",
       "      <td>0.0</td>\n",
       "      <td>0.0</td>\n",
       "      <td>0.0</td>\n",
       "      <td>0.0</td>\n",
       "      <td>1.0</td>\n",
       "      <td>0.0</td>\n",
       "      <td>0.0</td>\n",
       "      <td>0.0</td>\n",
       "      <td>0.0</td>\n",
       "    </tr>\n",
       "    <tr>\n",
       "      <th>47340</th>\n",
       "      <td>0</td>\n",
       "      <td>0</td>\n",
       "      <td>0</td>\n",
       "      <td>33.5542</td>\n",
       "      <td>-3.3690</td>\n",
       "      <td>0.0</td>\n",
       "      <td>1.0</td>\n",
       "      <td>0.0</td>\n",
       "      <td>0.0</td>\n",
       "      <td>0.0</td>\n",
       "      <td>0.0</td>\n",
       "      <td>0.0</td>\n",
       "      <td>0.0</td>\n",
       "      <td>0.0</td>\n",
       "      <td>0.0</td>\n",
       "      <td>0.0</td>\n",
       "      <td>0.0</td>\n",
       "      <td>0.0</td>\n",
       "      <td>1.0</td>\n",
       "      <td>0.0</td>\n",
       "      <td>0.0</td>\n",
       "      <td>0.0</td>\n",
       "      <td>0.0</td>\n",
       "      <td>0.0</td>\n",
       "      <td>0.0</td>\n",
       "      <td>...</td>\n",
       "      <td>1.0</td>\n",
       "      <td>0.0</td>\n",
       "      <td>0.0</td>\n",
       "      <td>0.0</td>\n",
       "      <td>0.0</td>\n",
       "      <td>0.0</td>\n",
       "      <td>0.0</td>\n",
       "      <td>0.0</td>\n",
       "      <td>1.0</td>\n",
       "      <td>0.0</td>\n",
       "      <td>0.0</td>\n",
       "      <td>0.0</td>\n",
       "      <td>0.0</td>\n",
       "      <td>0.0</td>\n",
       "      <td>0.0</td>\n",
       "      <td>0.0</td>\n",
       "      <td>1.0</td>\n",
       "      <td>0.0</td>\n",
       "      <td>0.0</td>\n",
       "      <td>0.0</td>\n",
       "      <td>0.0</td>\n",
       "      <td>0.0</td>\n",
       "      <td>0.0</td>\n",
       "      <td>0.0</td>\n",
       "      <td>0.0</td>\n",
       "    </tr>\n",
       "    <tr>\n",
       "      <th>6603</th>\n",
       "      <td>1983</td>\n",
       "      <td>500</td>\n",
       "      <td>1840</td>\n",
       "      <td>31.3311</td>\n",
       "      <td>-7.6533</td>\n",
       "      <td>0.0</td>\n",
       "      <td>1.0</td>\n",
       "      <td>0.0</td>\n",
       "      <td>0.0</td>\n",
       "      <td>0.0</td>\n",
       "      <td>0.0</td>\n",
       "      <td>0.0</td>\n",
       "      <td>0.0</td>\n",
       "      <td>1.0</td>\n",
       "      <td>0.0</td>\n",
       "      <td>0.0</td>\n",
       "      <td>0.0</td>\n",
       "      <td>0.0</td>\n",
       "      <td>0.0</td>\n",
       "      <td>0.0</td>\n",
       "      <td>0.0</td>\n",
       "      <td>0.0</td>\n",
       "      <td>0.0</td>\n",
       "      <td>0.0</td>\n",
       "      <td>0.0</td>\n",
       "      <td>...</td>\n",
       "      <td>0.0</td>\n",
       "      <td>0.0</td>\n",
       "      <td>0.0</td>\n",
       "      <td>0.0</td>\n",
       "      <td>0.0</td>\n",
       "      <td>1.0</td>\n",
       "      <td>0.0</td>\n",
       "      <td>0.0</td>\n",
       "      <td>0.0</td>\n",
       "      <td>0.0</td>\n",
       "      <td>0.0</td>\n",
       "      <td>0.0</td>\n",
       "      <td>0.0</td>\n",
       "      <td>0.0</td>\n",
       "      <td>0.0</td>\n",
       "      <td>0.0</td>\n",
       "      <td>0.0</td>\n",
       "      <td>0.0</td>\n",
       "      <td>1.0</td>\n",
       "      <td>0.0</td>\n",
       "      <td>0.0</td>\n",
       "      <td>0.0</td>\n",
       "      <td>0.0</td>\n",
       "      <td>0.0</td>\n",
       "      <td>0.0</td>\n",
       "    </tr>\n",
       "  </tbody>\n",
       "</table>\n",
       "<p>5 rows × 64 columns</p>\n",
       "</div>"
      ],
      "text/plain": [
       "       construction_year  population  gps_height  longitude  latitude  dry  \\\n",
       "51327               2010          60         335    37.6097   -6.1386  0.0   \n",
       "26225                  0           0           0    32.2030   -4.6788  0.0   \n",
       "18897                  0           0           0    31.7413   -1.6136  0.0   \n",
       "47340                  0           0           0    33.5542   -3.3690  0.0   \n",
       "6603                1983         500        1840    31.3311   -7.6533  0.0   \n",
       "\n",
       "       enough  insufficient  seasonal  unknown    0    1    2    3    4    5  \\\n",
       "51327     0.0           1.0       0.0      0.0  0.0  0.0  0.0  0.0  0.0  0.0   \n",
       "26225     1.0           0.0       0.0      0.0  0.0  0.0  0.0  0.0  1.0  0.0   \n",
       "18897     1.0           0.0       0.0      0.0  0.0  0.0  0.0  1.0  0.0  0.0   \n",
       "47340     1.0           0.0       0.0      0.0  0.0  0.0  0.0  0.0  0.0  0.0   \n",
       "6603      1.0           0.0       0.0      0.0  0.0  0.0  0.0  1.0  0.0  0.0   \n",
       "\n",
       "         6    7    8   13   23   30   33   43   53     ...       WUG  \\\n",
       "51327  1.0  0.0  0.0  0.0  0.0  0.0  0.0  0.0  0.0     ...       0.0   \n",
       "26225  0.0  0.0  0.0  0.0  0.0  0.0  0.0  0.0  0.0     ...       0.0   \n",
       "18897  0.0  0.0  0.0  0.0  0.0  0.0  0.0  0.0  0.0     ...       0.0   \n",
       "47340  0.0  0.0  1.0  0.0  0.0  0.0  0.0  0.0  0.0     ...       1.0   \n",
       "6603   0.0  0.0  0.0  0.0  0.0  0.0  0.0  0.0  0.0     ...       0.0   \n",
       "\n",
       "       Water Board  Water authority  afridev  gravity  india mark ii  \\\n",
       "51327          0.0              0.0      0.0      0.0            0.0   \n",
       "26225          0.0              0.0      0.0      0.0            0.0   \n",
       "18897          0.0              0.0      0.0      1.0            0.0   \n",
       "47340          0.0              0.0      0.0      0.0            0.0   \n",
       "6603           0.0              0.0      0.0      0.0            1.0   \n",
       "\n",
       "       india mark iii  mono  nira/tanira  other  other handpump  \\\n",
       "51327             0.0   0.0          1.0    0.0             0.0   \n",
       "26225             0.0   0.0          0.0    1.0             0.0   \n",
       "18897             0.0   0.0          0.0    0.0             0.0   \n",
       "47340             0.0   0.0          1.0    0.0             0.0   \n",
       "6603              0.0   0.0          0.0    0.0             0.0   \n",
       "\n",
       "       other motorpump  rope pump  submersible  swn 80  wind-powered  \\\n",
       "51327              0.0        0.0          0.0     0.0           0.0   \n",
       "26225              0.0        0.0          0.0     0.0           0.0   \n",
       "18897              0.0        0.0          0.0     0.0           0.0   \n",
       "47340              0.0        0.0          0.0     0.0           0.0   \n",
       "6603               0.0        0.0          0.0     0.0           0.0   \n",
       "\n",
       "       Internal  Lake Nyasa  Lake Rukwa  Lake Tanganyika  Lake Victoria  \\\n",
       "51327       0.0         0.0         0.0              0.0            0.0   \n",
       "26225       0.0         0.0         0.0              1.0            0.0   \n",
       "18897       0.0         0.0         0.0              0.0            1.0   \n",
       "47340       1.0         0.0         0.0              0.0            0.0   \n",
       "6603        0.0         0.0         1.0              0.0            0.0   \n",
       "\n",
       "       Pangani  Rufiji  Ruvuma / Southern Coast  Wami / Ruvu  \n",
       "51327      0.0     0.0                      0.0          1.0  \n",
       "26225      0.0     0.0                      0.0          0.0  \n",
       "18897      0.0     0.0                      0.0          0.0  \n",
       "47340      0.0     0.0                      0.0          0.0  \n",
       "6603       0.0     0.0                      0.0          0.0  \n",
       "\n",
       "[5 rows x 64 columns]"
      ]
     },
     "execution_count": 8,
     "metadata": {},
     "output_type": "execute_result"
    }
   ],
   "source": [
    "y_df = training_labels_df['status_group']\n",
    "X_df = training_values_df[['construction_year','population','gps_height','longitude','latitude']] \n",
    "\n",
    "#cat_list = ['quantity','district_code','scheme_management','extraction_type_group','water_quality','basin']\n",
    "cat_list = ['quantity','district_code','scheme_management','extraction_type_group','basin']\n",
    "\n",
    "for cat_feature in cat_list:\n",
    "    temp_df = pd.get_dummies(training_values_df[cat_feature])\n",
    "    X_df = X_df.join(temp_df)\n",
    "X_df.sample(5)"
   ]
  },
  {
   "cell_type": "code",
   "execution_count": 9,
   "metadata": {
    "collapsed": false
   },
   "outputs": [],
   "source": [
    "# cleaning\n",
    "construction_mean = X_df[X_df.construction_year>0].mean()\n",
    "X_df['construction_year'].replace(0, construction_mean)\n",
    "\n",
    "pop_mean = X_df[X_df.population > 0].mean()\n",
    "X_df['population'].replace(0,pop_mean)\n",
    "\n",
    "gps_height_mean = X_df[X_df.gps_height>0].mean();\n",
    "X_df['gps_height'].replace(0,gps_height_mean);"
   ]
  },
  {
   "cell_type": "code",
   "execution_count": 14,
   "metadata": {
    "collapsed": true
   },
   "outputs": [],
   "source": [
    "# split training/test\n",
    "X_train, X_test, y_train, y_test = train_test_split(X_df,\n",
    "                                                    y_df, test_size=0.25, random_state=42)"
   ]
  },
  {
   "cell_type": "code",
   "execution_count": 17,
   "metadata": {
    "collapsed": false
   },
   "outputs": [
    {
     "name": "stdout",
     "output_type": "stream",
     "text": [
      "Accuracy with logistic regression = 0.6953\n"
     ]
    }
   ],
   "source": [
    "# run classification algorithms\n",
    "clf = linear_models.LogisticRegressionCV(scoring='accuracy',\n",
    "                                         cv=5, n_jobs=4, Cs=8)\n",
    "y_hat = clf.fit(X_train, y_train).predict(X_test)\n",
    "print( \"Accuracy with logistic regression = %4.4f\" %\n",
    "      metrics.accuracy_score(y_test, y_hat))"
   ]
  },
  {
   "cell_type": "code",
   "execution_count": 18,
   "metadata": {
    "collapsed": false
   },
   "outputs": [
    {
     "name": "stdout",
     "output_type": "stream",
     "text": [
      "Accuracy with Naive Bayes = 0.5279 \n"
     ]
    }
   ],
   "source": [
    "naive_b = GaussianNB()\n",
    "y_predict_naive_b = naive_b.fit(X_train,y_train).predict(X_test)\n",
    "print( \"Accuracy with Naive Bayes = %4.4f \" %\n",
    "      accuracy_score(y_test,y_predict_naive_b))"
   ]
  },
  {
   "cell_type": "code",
   "execution_count": 19,
   "metadata": {
    "collapsed": false
   },
   "outputs": [
    {
     "name": "stdout",
     "output_type": "stream",
     "text": [
      "Accuracy with Decision Tree = 0.7421\n"
     ]
    }
   ],
   "source": [
    "d_tree = DecisionTreeClassifier()\n",
    "y_predict_d_tree = d_tree.fit(X_train,y_train).predict(X_test)\n",
    "\n",
    "print(\"Accuracy with Decision Tree = %4.4f\" %\n",
    "      accuracy_score(y_test,y_predict_d_tree))"
   ]
  },
  {
   "cell_type": "code",
   "execution_count": 22,
   "metadata": {
    "collapsed": false
   },
   "outputs": [
    {
     "name": "stdout",
     "output_type": "stream",
     "text": [
      "Best Params: \n",
      " {'n_estimators': 100, 'max_depth': 6}\n",
      "Accuracy with Random Forest = 0.6949\n"
     ]
    }
   ],
   "source": [
    "grid = {'max_depth': [3, 4, 5, 6],\n",
    "        'n_estimators': [40, 50, 60,  100]\n",
    "       }\n",
    "clf = GridSearchCV(RandomForestClassifier(), n_jobs=4,\n",
    "                   param_grid=grid,\n",
    "                   scoring='f1_micro', cv=8)\n",
    "\n",
    "#clf.fit(X_train, y_train)\n",
    "y_hat = clf.fit(X_train,y_train).predict(X_test)\n",
    "\n",
    "print('Best Params: \\n', clf.best_params_ )\n",
    "print(\"Accuracy with Random Forest = %4.4f\"  %\n",
    "      accuracy_score(y_test, y_hat))"
   ]
  },
  {
   "cell_type": "code",
   "execution_count": 32,
   "metadata": {
    "collapsed": false
   },
   "outputs": [
    {
     "name": "stdout",
     "output_type": "stream",
     "text": [
      "[[7753    0  269]\n",
      " [1054    0   57]\n",
      " [3151    0 2566]]\n",
      "[[7753  269]\n",
      " [4205 2623]]\n"
     ]
    }
   ],
   "source": [
    "m = metrics.confusion_matrix(y_test, y_hat)\n",
    "print(m)\n",
    "m[:, 1] = m[:,1:].sum(axis=1)\n",
    "m[1, :] = m[1:,:].sum(axis=0)\n",
    "\n",
    "m = m[:2, :2]\n",
    "print(m)"
   ]
  },
  {
   "cell_type": "code",
   "execution_count": 21,
   "metadata": {
    "collapsed": false
   },
   "outputs": [],
   "source": [
    "# commenting out for now since it takes too long\n",
    "grid = {'C': 10 ** np.arange(-3, 4,0.5), 'gamma': 10 ** np.arange(-2.5, 2)}\n",
    "\n",
    "clf = GridSearchCV(SVC(),n_jobs=3, param_grid=grid, scoring='f1_micro',cv=5)\n",
    "\n",
    "# clf.fit(X_train, y_train)\n",
    "# y_hat = clf.predict(X_test)\n",
    "# # print(\"Accuracy with SVM = %4.4f\" %\n",
    "#       accuracy_score(y_test, y_hat))"
   ]
  },
  {
   "cell_type": "code",
   "execution_count": null,
   "metadata": {
    "collapsed": false
   },
   "outputs": [],
   "source": []
  },
  {
   "cell_type": "code",
   "execution_count": null,
   "metadata": {
    "collapsed": true
   },
   "outputs": [],
   "source": []
  },
  {
   "cell_type": "code",
   "execution_count": null,
   "metadata": {
    "collapsed": true
   },
   "outputs": [],
   "source": [
    "from sklearn.metrics import confusion_matrix\n",
    "# get y_pred and y_actual\n",
    "y_pred = model.predict(X_test)\n",
    "#convert y's to binaryconf_matrix = confusion_matrix(y_actual, y_pred)confusion_matrix[1,:] = confusion_matrix[:, 1:2].sum()\n",
    "y_actual = y_test\n",
    "\n",
    "np."
   ]
  }
 ],
 "metadata": {
  "kernelspec": {
   "display_name": "Python 3",
   "language": "python",
   "name": "python3"
  },
  "language_info": {
   "codemirror_mode": {
    "name": "ipython",
    "version": 3
   },
   "file_extension": ".py",
   "mimetype": "text/x-python",
   "name": "python",
   "nbconvert_exporter": "python",
   "pygments_lexer": "ipython3",
   "version": "3.5.1"
  }
 },
 "nbformat": 4,
 "nbformat_minor": 0
}
