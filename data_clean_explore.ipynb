{
 "cells": [
  {
   "cell_type": "code",
   "execution_count": 96,
   "metadata": {
    "collapsed": true
   },
   "outputs": [],
   "source": [
    "import pandas as pd\n",
    "import matplotlib.pyplot as plt\n",
    "import statsmodels.api as sm\n",
    "import seaborn as sbrn\n",
    "import numpy as np\n",
    "import re\n",
    "import datetime\n",
    "\n",
    "%matplotlib inline"
   ]
  },
  {
   "cell_type": "code",
   "execution_count": 50,
   "metadata": {
    "collapsed": false
   },
   "outputs": [],
   "source": [
    "dat = pd.read_csv('../data/water_pump/training.csv', header=0)"
   ]
  },
  {
   "cell_type": "code",
   "execution_count": 75,
   "metadata": {
    "collapsed": false
   },
   "outputs": [
    {
     "data": {
      "text/html": [
       "<div>\n",
       "<table border=\"1\" class=\"dataframe\">\n",
       "  <thead>\n",
       "    <tr style=\"text-align: right;\">\n",
       "      <th></th>\n",
       "      <th>id</th>\n",
       "      <th>amount_tsh</th>\n",
       "      <th>date_recorded</th>\n",
       "      <th>funder</th>\n",
       "      <th>gps_height</th>\n",
       "      <th>installer</th>\n",
       "      <th>longitude</th>\n",
       "      <th>latitude</th>\n",
       "      <th>wpt_name</th>\n",
       "      <th>num_private</th>\n",
       "      <th>...</th>\n",
       "      <th>payment_type</th>\n",
       "      <th>water_quality</th>\n",
       "      <th>quality_group</th>\n",
       "      <th>quantity</th>\n",
       "      <th>quantity_group</th>\n",
       "      <th>source</th>\n",
       "      <th>source_type</th>\n",
       "      <th>source_class</th>\n",
       "      <th>waterpoint_type</th>\n",
       "      <th>waterpoint_type_group</th>\n",
       "    </tr>\n",
       "  </thead>\n",
       "  <tbody>\n",
       "    <tr>\n",
       "      <th>26636</th>\n",
       "      <td>47759</td>\n",
       "      <td>0.0</td>\n",
       "      <td>2011-03-27</td>\n",
       "      <td>Village Council</td>\n",
       "      <td>0</td>\n",
       "      <td>Village Council</td>\n",
       "      <td>33.310761</td>\n",
       "      <td>-9.006723e+00</td>\n",
       "      <td>Damson Ndisa</td>\n",
       "      <td>0</td>\n",
       "      <td>...</td>\n",
       "      <td>on failure</td>\n",
       "      <td>soft</td>\n",
       "      <td>good</td>\n",
       "      <td>enough</td>\n",
       "      <td>enough</td>\n",
       "      <td>river</td>\n",
       "      <td>river/lake</td>\n",
       "      <td>surface</td>\n",
       "      <td>communal standpipe</td>\n",
       "      <td>communal standpipe</td>\n",
       "    </tr>\n",
       "    <tr>\n",
       "      <th>7861</th>\n",
       "      <td>30172</td>\n",
       "      <td>5000.0</td>\n",
       "      <td>2013-01-30</td>\n",
       "      <td>Rudep</td>\n",
       "      <td>1132</td>\n",
       "      <td>Distri</td>\n",
       "      <td>32.130957</td>\n",
       "      <td>-6.799369e+00</td>\n",
       "      <td>Kwa Mtemi</td>\n",
       "      <td>0</td>\n",
       "      <td>...</td>\n",
       "      <td>annually</td>\n",
       "      <td>soft</td>\n",
       "      <td>good</td>\n",
       "      <td>enough</td>\n",
       "      <td>enough</td>\n",
       "      <td>machine dbh</td>\n",
       "      <td>borehole</td>\n",
       "      <td>groundwater</td>\n",
       "      <td>hand pump</td>\n",
       "      <td>hand pump</td>\n",
       "    </tr>\n",
       "    <tr>\n",
       "      <th>31925</th>\n",
       "      <td>61255</td>\n",
       "      <td>0.0</td>\n",
       "      <td>2013-01-18</td>\n",
       "      <td>Dwsp</td>\n",
       "      <td>0</td>\n",
       "      <td>DWE</td>\n",
       "      <td>0.000000</td>\n",
       "      <td>-2.000000e-08</td>\n",
       "      <td>Neema Ya Mungu</td>\n",
       "      <td>0</td>\n",
       "      <td>...</td>\n",
       "      <td>unknown</td>\n",
       "      <td>soft</td>\n",
       "      <td>good</td>\n",
       "      <td>enough</td>\n",
       "      <td>enough</td>\n",
       "      <td>shallow well</td>\n",
       "      <td>shallow well</td>\n",
       "      <td>groundwater</td>\n",
       "      <td>hand pump</td>\n",
       "      <td>hand pump</td>\n",
       "    </tr>\n",
       "    <tr>\n",
       "      <th>8175</th>\n",
       "      <td>40073</td>\n",
       "      <td>200.0</td>\n",
       "      <td>2013-03-22</td>\n",
       "      <td>Kkkt Church</td>\n",
       "      <td>648</td>\n",
       "      <td>KKKT CHURCH</td>\n",
       "      <td>37.911771</td>\n",
       "      <td>-4.501720e+00</td>\n",
       "      <td>Kwa Hawa</td>\n",
       "      <td>0</td>\n",
       "      <td>...</td>\n",
       "      <td>monthly</td>\n",
       "      <td>soft</td>\n",
       "      <td>good</td>\n",
       "      <td>enough</td>\n",
       "      <td>enough</td>\n",
       "      <td>spring</td>\n",
       "      <td>spring</td>\n",
       "      <td>groundwater</td>\n",
       "      <td>communal standpipe</td>\n",
       "      <td>communal standpipe</td>\n",
       "    </tr>\n",
       "    <tr>\n",
       "      <th>34228</th>\n",
       "      <td>13304</td>\n",
       "      <td>0.0</td>\n",
       "      <td>2013-01-28</td>\n",
       "      <td>Dasip</td>\n",
       "      <td>0</td>\n",
       "      <td>Victoria</td>\n",
       "      <td>32.423657</td>\n",
       "      <td>-3.833167e+00</td>\n",
       "      <td>Ishololo</td>\n",
       "      <td>0</td>\n",
       "      <td>...</td>\n",
       "      <td>unknown</td>\n",
       "      <td>unknown</td>\n",
       "      <td>unknown</td>\n",
       "      <td>unknown</td>\n",
       "      <td>unknown</td>\n",
       "      <td>shallow well</td>\n",
       "      <td>shallow well</td>\n",
       "      <td>groundwater</td>\n",
       "      <td>hand pump</td>\n",
       "      <td>hand pump</td>\n",
       "    </tr>\n",
       "  </tbody>\n",
       "</table>\n",
       "<p>5 rows × 40 columns</p>\n",
       "</div>"
      ],
      "text/plain": [
       "          id  amount_tsh date_recorded           funder  gps_height  \\\n",
       "26636  47759         0.0    2011-03-27  Village Council           0   \n",
       "7861   30172      5000.0    2013-01-30            Rudep        1132   \n",
       "31925  61255         0.0    2013-01-18             Dwsp           0   \n",
       "8175   40073       200.0    2013-03-22      Kkkt Church         648   \n",
       "34228  13304         0.0    2013-01-28            Dasip           0   \n",
       "\n",
       "             installer  longitude      latitude        wpt_name  num_private  \\\n",
       "26636  Village Council  33.310761 -9.006723e+00    Damson Ndisa            0   \n",
       "7861            Distri  32.130957 -6.799369e+00       Kwa Mtemi            0   \n",
       "31925              DWE   0.000000 -2.000000e-08  Neema Ya Mungu            0   \n",
       "8175       KKKT CHURCH  37.911771 -4.501720e+00        Kwa Hawa            0   \n",
       "34228         Victoria  32.423657 -3.833167e+00        Ishololo            0   \n",
       "\n",
       "               ...          payment_type water_quality quality_group  \\\n",
       "26636          ...            on failure          soft          good   \n",
       "7861           ...              annually          soft          good   \n",
       "31925          ...               unknown          soft          good   \n",
       "8175           ...               monthly          soft          good   \n",
       "34228          ...               unknown       unknown       unknown   \n",
       "\n",
       "       quantity  quantity_group        source   source_type  source_class  \\\n",
       "26636    enough          enough         river    river/lake       surface   \n",
       "7861     enough          enough   machine dbh      borehole   groundwater   \n",
       "31925    enough          enough  shallow well  shallow well   groundwater   \n",
       "8175     enough          enough        spring        spring   groundwater   \n",
       "34228   unknown         unknown  shallow well  shallow well   groundwater   \n",
       "\n",
       "          waterpoint_type waterpoint_type_group  \n",
       "26636  communal standpipe    communal standpipe  \n",
       "7861            hand pump             hand pump  \n",
       "31925           hand pump             hand pump  \n",
       "8175   communal standpipe    communal standpipe  \n",
       "34228           hand pump             hand pump  \n",
       "\n",
       "[5 rows x 40 columns]"
      ]
     },
     "execution_count": 75,
     "metadata": {},
     "output_type": "execute_result"
    }
   ],
   "source": [
    "dat.sample(5)"
   ]
  },
  {
   "cell_type": "code",
   "execution_count": 51,
   "metadata": {
    "collapsed": false
   },
   "outputs": [
    {
     "data": {
      "text/plain": [
       "(59400, 40)"
      ]
     },
     "execution_count": 51,
     "metadata": {},
     "output_type": "execute_result"
    }
   ],
   "source": [
    "dat.shape"
   ]
  },
  {
   "cell_type": "code",
   "execution_count": 68,
   "metadata": {
    "collapsed": false
   },
   "outputs": [
    {
     "data": {
      "text/html": [
       "<div>\n",
       "<table border=\"1\" class=\"dataframe\">\n",
       "  <thead>\n",
       "    <tr style=\"text-align: right;\">\n",
       "      <th></th>\n",
       "      <th>id</th>\n",
       "      <th>amount_tsh</th>\n",
       "      <th>gps_height</th>\n",
       "      <th>longitude</th>\n",
       "      <th>latitude</th>\n",
       "      <th>num_private</th>\n",
       "      <th>region_code</th>\n",
       "      <th>district_code</th>\n",
       "      <th>population</th>\n",
       "      <th>construction_year</th>\n",
       "    </tr>\n",
       "  </thead>\n",
       "  <tbody>\n",
       "    <tr>\n",
       "      <th>count</th>\n",
       "      <td>59400.000000</td>\n",
       "      <td>59400.000000</td>\n",
       "      <td>59400.000000</td>\n",
       "      <td>59400.000000</td>\n",
       "      <td>5.940000e+04</td>\n",
       "      <td>59400.000000</td>\n",
       "      <td>59400.000000</td>\n",
       "      <td>59400.000000</td>\n",
       "      <td>59400.000000</td>\n",
       "      <td>59400.000000</td>\n",
       "    </tr>\n",
       "    <tr>\n",
       "      <th>mean</th>\n",
       "      <td>37115.131768</td>\n",
       "      <td>317.650385</td>\n",
       "      <td>668.297239</td>\n",
       "      <td>34.077427</td>\n",
       "      <td>-5.706033e+00</td>\n",
       "      <td>0.474141</td>\n",
       "      <td>15.297003</td>\n",
       "      <td>5.629747</td>\n",
       "      <td>179.909983</td>\n",
       "      <td>1300.652475</td>\n",
       "    </tr>\n",
       "    <tr>\n",
       "      <th>std</th>\n",
       "      <td>21453.128371</td>\n",
       "      <td>2997.574558</td>\n",
       "      <td>693.116350</td>\n",
       "      <td>6.567432</td>\n",
       "      <td>2.946019e+00</td>\n",
       "      <td>12.236230</td>\n",
       "      <td>17.587406</td>\n",
       "      <td>9.633649</td>\n",
       "      <td>471.482176</td>\n",
       "      <td>951.620547</td>\n",
       "    </tr>\n",
       "    <tr>\n",
       "      <th>min</th>\n",
       "      <td>0.000000</td>\n",
       "      <td>0.000000</td>\n",
       "      <td>-90.000000</td>\n",
       "      <td>0.000000</td>\n",
       "      <td>-1.164944e+01</td>\n",
       "      <td>0.000000</td>\n",
       "      <td>1.000000</td>\n",
       "      <td>0.000000</td>\n",
       "      <td>0.000000</td>\n",
       "      <td>0.000000</td>\n",
       "    </tr>\n",
       "    <tr>\n",
       "      <th>25%</th>\n",
       "      <td>18519.750000</td>\n",
       "      <td>0.000000</td>\n",
       "      <td>0.000000</td>\n",
       "      <td>33.090347</td>\n",
       "      <td>-8.540621e+00</td>\n",
       "      <td>0.000000</td>\n",
       "      <td>5.000000</td>\n",
       "      <td>2.000000</td>\n",
       "      <td>0.000000</td>\n",
       "      <td>0.000000</td>\n",
       "    </tr>\n",
       "    <tr>\n",
       "      <th>50%</th>\n",
       "      <td>37061.500000</td>\n",
       "      <td>0.000000</td>\n",
       "      <td>369.000000</td>\n",
       "      <td>34.908743</td>\n",
       "      <td>-5.021597e+00</td>\n",
       "      <td>0.000000</td>\n",
       "      <td>12.000000</td>\n",
       "      <td>3.000000</td>\n",
       "      <td>25.000000</td>\n",
       "      <td>1986.000000</td>\n",
       "    </tr>\n",
       "    <tr>\n",
       "      <th>60%</th>\n",
       "      <td>44550.800000</td>\n",
       "      <td>0.000000</td>\n",
       "      <td>930.000000</td>\n",
       "      <td>35.851175</td>\n",
       "      <td>-4.357631e+00</td>\n",
       "      <td>0.000000</td>\n",
       "      <td>14.000000</td>\n",
       "      <td>4.000000</td>\n",
       "      <td>90.000000</td>\n",
       "      <td>1996.000000</td>\n",
       "    </tr>\n",
       "    <tr>\n",
       "      <th>70%</th>\n",
       "      <td>51964.600000</td>\n",
       "      <td>0.000000</td>\n",
       "      <td>1229.000000</td>\n",
       "      <td>36.845036</td>\n",
       "      <td>-3.503652e+00</td>\n",
       "      <td>0.000000</td>\n",
       "      <td>17.000000</td>\n",
       "      <td>4.000000</td>\n",
       "      <td>160.000000</td>\n",
       "      <td>2002.000000</td>\n",
       "    </tr>\n",
       "    <tr>\n",
       "      <th>75%</th>\n",
       "      <td>55656.500000</td>\n",
       "      <td>20.000000</td>\n",
       "      <td>1319.250000</td>\n",
       "      <td>37.178387</td>\n",
       "      <td>-3.326156e+00</td>\n",
       "      <td>0.000000</td>\n",
       "      <td>17.000000</td>\n",
       "      <td>5.000000</td>\n",
       "      <td>215.000000</td>\n",
       "      <td>2004.000000</td>\n",
       "    </tr>\n",
       "    <tr>\n",
       "      <th>80%</th>\n",
       "      <td>59435.200000</td>\n",
       "      <td>50.000000</td>\n",
       "      <td>1415.000000</td>\n",
       "      <td>37.578860</td>\n",
       "      <td>-3.209251e+00</td>\n",
       "      <td>0.000000</td>\n",
       "      <td>18.000000</td>\n",
       "      <td>6.000000</td>\n",
       "      <td>260.000000</td>\n",
       "      <td>2007.000000</td>\n",
       "    </tr>\n",
       "    <tr>\n",
       "      <th>90%</th>\n",
       "      <td>66863.100000</td>\n",
       "      <td>500.000000</td>\n",
       "      <td>1638.000000</td>\n",
       "      <td>38.780334</td>\n",
       "      <td>-2.101167e+00</td>\n",
       "      <td>0.000000</td>\n",
       "      <td>20.000000</td>\n",
       "      <td>7.000000</td>\n",
       "      <td>453.000000</td>\n",
       "      <td>2009.000000</td>\n",
       "    </tr>\n",
       "    <tr>\n",
       "      <th>95%</th>\n",
       "      <td>70564.050000</td>\n",
       "      <td>1200.000000</td>\n",
       "      <td>1797.000000</td>\n",
       "      <td>39.133240</td>\n",
       "      <td>-1.408872e+00</td>\n",
       "      <td>0.000000</td>\n",
       "      <td>60.000000</td>\n",
       "      <td>30.000000</td>\n",
       "      <td>680.000000</td>\n",
       "      <td>2010.000000</td>\n",
       "    </tr>\n",
       "    <tr>\n",
       "      <th>max</th>\n",
       "      <td>74247.000000</td>\n",
       "      <td>350000.000000</td>\n",
       "      <td>2770.000000</td>\n",
       "      <td>40.345193</td>\n",
       "      <td>-2.000000e-08</td>\n",
       "      <td>1776.000000</td>\n",
       "      <td>99.000000</td>\n",
       "      <td>80.000000</td>\n",
       "      <td>30500.000000</td>\n",
       "      <td>2013.000000</td>\n",
       "    </tr>\n",
       "  </tbody>\n",
       "</table>\n",
       "</div>"
      ],
      "text/plain": [
       "                 id     amount_tsh    gps_height     longitude      latitude  \\\n",
       "count  59400.000000   59400.000000  59400.000000  59400.000000  5.940000e+04   \n",
       "mean   37115.131768     317.650385    668.297239     34.077427 -5.706033e+00   \n",
       "std    21453.128371    2997.574558    693.116350      6.567432  2.946019e+00   \n",
       "min        0.000000       0.000000    -90.000000      0.000000 -1.164944e+01   \n",
       "25%    18519.750000       0.000000      0.000000     33.090347 -8.540621e+00   \n",
       "50%    37061.500000       0.000000    369.000000     34.908743 -5.021597e+00   \n",
       "60%    44550.800000       0.000000    930.000000     35.851175 -4.357631e+00   \n",
       "70%    51964.600000       0.000000   1229.000000     36.845036 -3.503652e+00   \n",
       "75%    55656.500000      20.000000   1319.250000     37.178387 -3.326156e+00   \n",
       "80%    59435.200000      50.000000   1415.000000     37.578860 -3.209251e+00   \n",
       "90%    66863.100000     500.000000   1638.000000     38.780334 -2.101167e+00   \n",
       "95%    70564.050000    1200.000000   1797.000000     39.133240 -1.408872e+00   \n",
       "max    74247.000000  350000.000000   2770.000000     40.345193 -2.000000e-08   \n",
       "\n",
       "        num_private   region_code  district_code    population  \\\n",
       "count  59400.000000  59400.000000   59400.000000  59400.000000   \n",
       "mean       0.474141     15.297003       5.629747    179.909983   \n",
       "std       12.236230     17.587406       9.633649    471.482176   \n",
       "min        0.000000      1.000000       0.000000      0.000000   \n",
       "25%        0.000000      5.000000       2.000000      0.000000   \n",
       "50%        0.000000     12.000000       3.000000     25.000000   \n",
       "60%        0.000000     14.000000       4.000000     90.000000   \n",
       "70%        0.000000     17.000000       4.000000    160.000000   \n",
       "75%        0.000000     17.000000       5.000000    215.000000   \n",
       "80%        0.000000     18.000000       6.000000    260.000000   \n",
       "90%        0.000000     20.000000       7.000000    453.000000   \n",
       "95%        0.000000     60.000000      30.000000    680.000000   \n",
       "max     1776.000000     99.000000      80.000000  30500.000000   \n",
       "\n",
       "       construction_year  \n",
       "count       59400.000000  \n",
       "mean         1300.652475  \n",
       "std           951.620547  \n",
       "min             0.000000  \n",
       "25%             0.000000  \n",
       "50%          1986.000000  \n",
       "60%          1996.000000  \n",
       "70%          2002.000000  \n",
       "75%          2004.000000  \n",
       "80%          2007.000000  \n",
       "90%          2009.000000  \n",
       "95%          2010.000000  \n",
       "max          2013.000000  "
      ]
     },
     "execution_count": 68,
     "metadata": {},
     "output_type": "execute_result"
    }
   ],
   "source": [
    "dat.describe(percentiles=[0.25,.5,.6,.70,.75,.8,.9,.95])"
   ]
  },
  {
   "cell_type": "code",
   "execution_count": 61,
   "metadata": {
    "collapsed": false
   },
   "outputs": [
    {
     "data": {
      "text/plain": [
       "<matplotlib.axes._subplots.AxesSubplot at 0x173b324d0>"
      ]
     },
     "execution_count": 61,
     "metadata": {},
     "output_type": "execute_result"
    },
    {
     "data": {
      "image/png": "[encoded data removed]",
      "text/plain": [
       "<matplotlib.figure.Figure at 0x17378ba10>"
      ]
     },
     "metadata": {},
     "output_type": "display_data"
    }
   ],
   "source": [
    "fig, (ax1,ax2) = plt.subplots(2,1,figsize=(15,10))\n",
    "sbrn.distplot(dat.amount_tsh, ax=ax1, kde=True, rug=True)\n",
    "sbrn.boxplot(dat.amount_tsh, ax=ax2)"
   ]
  },
  {
   "cell_type": "code",
   "execution_count": 74,
   "metadata": {
    "collapsed": false
   },
   "outputs": [],
   "source": [
    "dat['date_recorded']=pd.to_datetime(dat.date_recorded)"
   ]
  },
  {
   "cell_type": "code",
   "execution_count": 94,
   "metadata": {
    "collapsed": false
   },
   "outputs": [
    {
     "data": {
      "text/plain": [
       "2601    2002-10-14\n",
       "27501   2004-01-07\n",
       "42343   2004-03-01\n",
       "23373   2004-03-01\n",
       "33942   2004-03-01\n",
       "32619   2004-03-01\n",
       "39559   2004-03-06\n",
       "52271   2004-04-01\n",
       "8736    2004-04-05\n",
       "8729    2004-05-01\n",
       "58663   2004-05-01\n",
       "13366   2004-06-01\n",
       "28490   2004-07-01\n",
       "3446    2004-08-01\n",
       "762     2004-08-01\n",
       "55669   2004-09-01\n",
       "47000   2004-09-01\n",
       "48555   2004-12-01\n",
       "57291   2004-12-01\n",
       "10441   2004-12-01\n",
       "16468   2004-12-01\n",
       "15103   2004-12-01\n",
       "22754   2004-12-01\n",
       "18730   2004-12-01\n",
       "14697   2004-12-01\n",
       "30319   2004-12-01\n",
       "48150   2004-12-01\n",
       "1189    2004-12-01\n",
       "32775   2004-12-01\n",
       "50564   2004-12-01\n",
       "26086   2004-12-01\n",
       "1015    2011-01-03\n",
       "8352    2011-01-03\n",
       "8245    2011-01-03\n",
       "11563   2011-01-03\n",
       "Name: date_recorded, dtype: datetime64[ns]"
      ]
     },
     "execution_count": 94,
     "metadata": {},
     "output_type": "execute_result"
    }
   ],
   "source": [
    "#not a time series, readings are sporadic, there are gaps in years\n",
    "dat.date_recorded.sort_values(ascending=True).head(35)"
   ]
  },
  {
   "cell_type": "code",
   "execution_count": 101,
   "metadata": {
    "collapsed": false
   },
   "outputs": [],
   "source": [
    "dat['year']=dat.date_recorded.dt.year"
   ]
  },
  {
   "cell_type": "code",
   "execution_count": 130,
   "metadata": {
    "collapsed": false
   },
   "outputs": [
    {
     "data": {
      "text/plain": [
       "<matplotlib.axes._subplots.AxesSubplot at 0x1288b7b90>"
      ]
     },
     "execution_count": 130,
     "metadata": {},
     "output_type": "execute_result"
    },
    {
     "data": {
      "image/png": "[encoded data removed]",
      "text/plain": [
       "<matplotlib.figure.Figure at 0x11add8f50>"
      ]
     },
     "metadata": {},
     "output_type": "display_data"
    }
   ],
   "source": [
    "#2004 and 2002 datapoints; <1% of the dataset combined\n",
    "\n",
    "dat.year.value_counts(normalize=True).plot(kind='bar')"
   ]
  },
  {
   "cell_type": "code",
   "execution_count": 133,
   "metadata": {
    "collapsed": false
   },
   "outputs": [],
   "source": [
    "#funder\n",
    "dat['funder']=dat['funder'].astype('category',copy=False)"
   ]
  },
  {
   "cell_type": "code",
   "execution_count": 155,
   "metadata": {
    "collapsed": false
   },
   "outputs": [
    {
     "data": {
      "text/plain": [
       "<matplotlib.text.Text at 0x1b6dcf0d0>"
      ]
     },
     "execution_count": 155,
     "metadata": {},
     "output_type": "execute_result"
    },
    {
     "data": {
      "image/png": "[encoded data removed]",
      "text/plain": [
       "<matplotlib.figure.Figure at 0x1b6d43c50>"
      ]
     },
     "metadata": {},
     "output_type": "display_data"
    }
   ],
   "source": [
    "dat.funder.value_counts(normalize=True).head(20).plot(kind='bar', figsize=(15,5))\n",
    "plt.title('Frequency of \"Funder\" Categories in Dataset: Top 20')\n",
    "#Top 20-ish funders get close to making up about 50% of the dataset"
   ]
  },
  {
   "cell_type": "code",
   "execution_count": 157,
   "metadata": {
    "collapsed": false
   },
   "outputs": [
    {
     "data": {
      "text/plain": [
       "29968                 District Council\n",
       "16066    Halmashauri Ya Wilaya Sikonge\n",
       "12675                          African\n",
       "30165                             Kkkt\n",
       "45928                           Hesawa\n",
       "Name: funder, dtype: category\n",
       "Categories (1897, object): [0, A/co Germany, Aar, Abas Ka, ..., Zao Water Spring, Zao Water Spring X, Zinduka, Zingibali Secondary]"
      ]
     },
     "execution_count": 157,
     "metadata": {},
     "output_type": "execute_result"
    }
   ],
   "source": [
    "dat.funder.sample(5)"
   ]
  },
  {
   "cell_type": "code",
   "execution_count": 158,
   "metadata": {
    "collapsed": false
   },
   "outputs": [
    {
     "data": {
      "text/plain": [
       "43204     852\n",
       "12918    1594\n",
       "52546    1625\n",
       "18144       0\n",
       "38851     337\n",
       "Name: gps_height, dtype: int64"
      ]
     },
     "execution_count": 158,
     "metadata": {},
     "output_type": "execute_result"
    }
   ],
   "source": [
    "dat.gps_height.sample(5)"
   ]
  },
  {
   "cell_type": "code",
   "execution_count": null,
   "metadata": {
    "collapsed": true
   },
   "outputs": [],
   "source": []
  }
 ],
 "metadata": {
  "kernelspec": {
   "display_name": "Python 2",
   "language": "python",
   "name": "python2"
  },
  "language_info": {
   "codemirror_mode": {
    "name": "ipython",
    "version": 2
   },
   "file_extension": ".py",
   "mimetype": "text/x-python",
   "name": "python",
   "nbconvert_exporter": "python",
   "pygments_lexer": "ipython2",
   "version": "2.7.11"
  }
 },
 "nbformat": 4,
 "nbformat_minor": 0
}
